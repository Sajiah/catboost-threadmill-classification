{
 "cells": [
  {
   "cell_type": "code",
   "execution_count": 58,
   "id": "57e1e9ca",
   "metadata": {},
   "outputs": [],
   "source": [
    "import pandas as pd\n",
    "import matplotlib.pyplot as plt\n",
    "import seaborn as sn\n",
    "import numpy as np"
   ]
  },
  {
   "cell_type": "code",
   "execution_count": 5,
   "id": "0a90cd1a",
   "metadata": {},
   "outputs": [],
   "source": [
    "cardio_dataset = pd.read_csv('CardioGoodFitness.csv')"
   ]
  },
  {
   "cell_type": "code",
   "execution_count": 6,
   "id": "62ea744e",
   "metadata": {},
   "outputs": [
    {
     "data": {
      "text/html": [
       "<div>\n",
       "<style scoped>\n",
       "    .dataframe tbody tr th:only-of-type {\n",
       "        vertical-align: middle;\n",
       "    }\n",
       "\n",
       "    .dataframe tbody tr th {\n",
       "        vertical-align: top;\n",
       "    }\n",
       "\n",
       "    .dataframe thead th {\n",
       "        text-align: right;\n",
       "    }\n",
       "</style>\n",
       "<table border=\"1\" class=\"dataframe\">\n",
       "  <thead>\n",
       "    <tr style=\"text-align: right;\">\n",
       "      <th></th>\n",
       "      <th>Product</th>\n",
       "      <th>Age</th>\n",
       "      <th>Gender</th>\n",
       "      <th>Education</th>\n",
       "      <th>MaritalStatus</th>\n",
       "      <th>Usage</th>\n",
       "      <th>Fitness</th>\n",
       "      <th>Income</th>\n",
       "      <th>Miles</th>\n",
       "    </tr>\n",
       "  </thead>\n",
       "  <tbody>\n",
       "    <tr>\n",
       "      <th>0</th>\n",
       "      <td>TM195</td>\n",
       "      <td>18</td>\n",
       "      <td>Male</td>\n",
       "      <td>14</td>\n",
       "      <td>Single</td>\n",
       "      <td>3</td>\n",
       "      <td>4</td>\n",
       "      <td>29562</td>\n",
       "      <td>112</td>\n",
       "    </tr>\n",
       "    <tr>\n",
       "      <th>1</th>\n",
       "      <td>TM195</td>\n",
       "      <td>19</td>\n",
       "      <td>Male</td>\n",
       "      <td>15</td>\n",
       "      <td>Single</td>\n",
       "      <td>2</td>\n",
       "      <td>3</td>\n",
       "      <td>31836</td>\n",
       "      <td>75</td>\n",
       "    </tr>\n",
       "    <tr>\n",
       "      <th>2</th>\n",
       "      <td>TM195</td>\n",
       "      <td>19</td>\n",
       "      <td>Female</td>\n",
       "      <td>14</td>\n",
       "      <td>Partnered</td>\n",
       "      <td>4</td>\n",
       "      <td>3</td>\n",
       "      <td>30699</td>\n",
       "      <td>66</td>\n",
       "    </tr>\n",
       "    <tr>\n",
       "      <th>3</th>\n",
       "      <td>TM195</td>\n",
       "      <td>19</td>\n",
       "      <td>Male</td>\n",
       "      <td>12</td>\n",
       "      <td>Single</td>\n",
       "      <td>3</td>\n",
       "      <td>3</td>\n",
       "      <td>32973</td>\n",
       "      <td>85</td>\n",
       "    </tr>\n",
       "    <tr>\n",
       "      <th>4</th>\n",
       "      <td>TM195</td>\n",
       "      <td>20</td>\n",
       "      <td>Male</td>\n",
       "      <td>13</td>\n",
       "      <td>Partnered</td>\n",
       "      <td>4</td>\n",
       "      <td>2</td>\n",
       "      <td>35247</td>\n",
       "      <td>47</td>\n",
       "    </tr>\n",
       "  </tbody>\n",
       "</table>\n",
       "</div>"
      ],
      "text/plain": [
       "  Product  Age  Gender  Education MaritalStatus  Usage  Fitness  Income  Miles\n",
       "0   TM195   18    Male         14        Single      3        4   29562    112\n",
       "1   TM195   19    Male         15        Single      2        3   31836     75\n",
       "2   TM195   19  Female         14     Partnered      4        3   30699     66\n",
       "3   TM195   19    Male         12        Single      3        3   32973     85\n",
       "4   TM195   20    Male         13     Partnered      4        2   35247     47"
      ]
     },
     "execution_count": 6,
     "metadata": {},
     "output_type": "execute_result"
    }
   ],
   "source": [
    "cardio_dataset.head()"
   ]
  },
  {
   "cell_type": "code",
   "execution_count": 14,
   "id": "337c14a8",
   "metadata": {},
   "outputs": [
    {
     "name": "stdout",
     "output_type": "stream",
     "text": [
      "<class 'pandas.core.frame.DataFrame'>\n",
      "RangeIndex: 180 entries, 0 to 179\n",
      "Data columns (total 9 columns):\n",
      " #   Column         Non-Null Count  Dtype \n",
      "---  ------         --------------  ----- \n",
      " 0   Product        180 non-null    object\n",
      " 1   Age            180 non-null    int64 \n",
      " 2   Gender         180 non-null    object\n",
      " 3   Education      180 non-null    int64 \n",
      " 4   MaritalStatus  180 non-null    object\n",
      " 5   Usage          180 non-null    int64 \n",
      " 6   Fitness        180 non-null    int64 \n",
      " 7   Income         180 non-null    int64 \n",
      " 8   Miles          180 non-null    int64 \n",
      "dtypes: int64(6), object(3)\n",
      "memory usage: 12.8+ KB\n"
     ]
    }
   ],
   "source": [
    "cardio_dataset.info()"
   ]
  },
  {
   "cell_type": "code",
   "execution_count": 15,
   "id": "66b37e00",
   "metadata": {},
   "outputs": [
    {
     "data": {
      "text/plain": [
       "Product          False\n",
       "Age              False\n",
       "Gender           False\n",
       "Education        False\n",
       "MaritalStatus    False\n",
       "Usage            False\n",
       "Fitness          False\n",
       "Income           False\n",
       "Miles            False\n",
       "dtype: bool"
      ]
     },
     "execution_count": 15,
     "metadata": {},
     "output_type": "execute_result"
    }
   ],
   "source": [
    "cardio_dataset.isna().any()"
   ]
  },
  {
   "cell_type": "code",
   "execution_count": 17,
   "id": "65c85bcb",
   "metadata": {},
   "outputs": [
    {
     "data": {
      "text/html": [
       "<div>\n",
       "<style scoped>\n",
       "    .dataframe tbody tr th:only-of-type {\n",
       "        vertical-align: middle;\n",
       "    }\n",
       "\n",
       "    .dataframe tbody tr th {\n",
       "        vertical-align: top;\n",
       "    }\n",
       "\n",
       "    .dataframe thead th {\n",
       "        text-align: right;\n",
       "    }\n",
       "</style>\n",
       "<table border=\"1\" class=\"dataframe\">\n",
       "  <thead>\n",
       "    <tr style=\"text-align: right;\">\n",
       "      <th></th>\n",
       "      <th>Product</th>\n",
       "      <th>Age</th>\n",
       "      <th>Gender</th>\n",
       "      <th>Education</th>\n",
       "      <th>MaritalStatus</th>\n",
       "      <th>Usage</th>\n",
       "      <th>Fitness</th>\n",
       "      <th>Income</th>\n",
       "      <th>Miles</th>\n",
       "    </tr>\n",
       "  </thead>\n",
       "  <tbody>\n",
       "    <tr>\n",
       "      <th>count</th>\n",
       "      <td>180</td>\n",
       "      <td>180.000000</td>\n",
       "      <td>180</td>\n",
       "      <td>180.000000</td>\n",
       "      <td>180</td>\n",
       "      <td>180.000000</td>\n",
       "      <td>180.000000</td>\n",
       "      <td>180.000000</td>\n",
       "      <td>180.000000</td>\n",
       "    </tr>\n",
       "    <tr>\n",
       "      <th>unique</th>\n",
       "      <td>3</td>\n",
       "      <td>NaN</td>\n",
       "      <td>2</td>\n",
       "      <td>NaN</td>\n",
       "      <td>2</td>\n",
       "      <td>NaN</td>\n",
       "      <td>NaN</td>\n",
       "      <td>NaN</td>\n",
       "      <td>NaN</td>\n",
       "    </tr>\n",
       "    <tr>\n",
       "      <th>top</th>\n",
       "      <td>TM195</td>\n",
       "      <td>NaN</td>\n",
       "      <td>Male</td>\n",
       "      <td>NaN</td>\n",
       "      <td>Partnered</td>\n",
       "      <td>NaN</td>\n",
       "      <td>NaN</td>\n",
       "      <td>NaN</td>\n",
       "      <td>NaN</td>\n",
       "    </tr>\n",
       "    <tr>\n",
       "      <th>freq</th>\n",
       "      <td>80</td>\n",
       "      <td>NaN</td>\n",
       "      <td>104</td>\n",
       "      <td>NaN</td>\n",
       "      <td>107</td>\n",
       "      <td>NaN</td>\n",
       "      <td>NaN</td>\n",
       "      <td>NaN</td>\n",
       "      <td>NaN</td>\n",
       "    </tr>\n",
       "    <tr>\n",
       "      <th>mean</th>\n",
       "      <td>NaN</td>\n",
       "      <td>28.788889</td>\n",
       "      <td>NaN</td>\n",
       "      <td>15.572222</td>\n",
       "      <td>NaN</td>\n",
       "      <td>3.455556</td>\n",
       "      <td>3.311111</td>\n",
       "      <td>53719.577778</td>\n",
       "      <td>103.194444</td>\n",
       "    </tr>\n",
       "    <tr>\n",
       "      <th>std</th>\n",
       "      <td>NaN</td>\n",
       "      <td>6.943498</td>\n",
       "      <td>NaN</td>\n",
       "      <td>1.617055</td>\n",
       "      <td>NaN</td>\n",
       "      <td>1.084797</td>\n",
       "      <td>0.958869</td>\n",
       "      <td>16506.684226</td>\n",
       "      <td>51.863605</td>\n",
       "    </tr>\n",
       "    <tr>\n",
       "      <th>min</th>\n",
       "      <td>NaN</td>\n",
       "      <td>18.000000</td>\n",
       "      <td>NaN</td>\n",
       "      <td>12.000000</td>\n",
       "      <td>NaN</td>\n",
       "      <td>2.000000</td>\n",
       "      <td>1.000000</td>\n",
       "      <td>29562.000000</td>\n",
       "      <td>21.000000</td>\n",
       "    </tr>\n",
       "    <tr>\n",
       "      <th>25%</th>\n",
       "      <td>NaN</td>\n",
       "      <td>24.000000</td>\n",
       "      <td>NaN</td>\n",
       "      <td>14.000000</td>\n",
       "      <td>NaN</td>\n",
       "      <td>3.000000</td>\n",
       "      <td>3.000000</td>\n",
       "      <td>44058.750000</td>\n",
       "      <td>66.000000</td>\n",
       "    </tr>\n",
       "    <tr>\n",
       "      <th>50%</th>\n",
       "      <td>NaN</td>\n",
       "      <td>26.000000</td>\n",
       "      <td>NaN</td>\n",
       "      <td>16.000000</td>\n",
       "      <td>NaN</td>\n",
       "      <td>3.000000</td>\n",
       "      <td>3.000000</td>\n",
       "      <td>50596.500000</td>\n",
       "      <td>94.000000</td>\n",
       "    </tr>\n",
       "    <tr>\n",
       "      <th>75%</th>\n",
       "      <td>NaN</td>\n",
       "      <td>33.000000</td>\n",
       "      <td>NaN</td>\n",
       "      <td>16.000000</td>\n",
       "      <td>NaN</td>\n",
       "      <td>4.000000</td>\n",
       "      <td>4.000000</td>\n",
       "      <td>58668.000000</td>\n",
       "      <td>114.750000</td>\n",
       "    </tr>\n",
       "    <tr>\n",
       "      <th>max</th>\n",
       "      <td>NaN</td>\n",
       "      <td>50.000000</td>\n",
       "      <td>NaN</td>\n",
       "      <td>21.000000</td>\n",
       "      <td>NaN</td>\n",
       "      <td>7.000000</td>\n",
       "      <td>5.000000</td>\n",
       "      <td>104581.000000</td>\n",
       "      <td>360.000000</td>\n",
       "    </tr>\n",
       "  </tbody>\n",
       "</table>\n",
       "</div>"
      ],
      "text/plain": [
       "       Product         Age Gender   Education MaritalStatus       Usage  \\\n",
       "count      180  180.000000    180  180.000000           180  180.000000   \n",
       "unique       3         NaN      2         NaN             2         NaN   \n",
       "top      TM195         NaN   Male         NaN     Partnered         NaN   \n",
       "freq        80         NaN    104         NaN           107         NaN   \n",
       "mean       NaN   28.788889    NaN   15.572222           NaN    3.455556   \n",
       "std        NaN    6.943498    NaN    1.617055           NaN    1.084797   \n",
       "min        NaN   18.000000    NaN   12.000000           NaN    2.000000   \n",
       "25%        NaN   24.000000    NaN   14.000000           NaN    3.000000   \n",
       "50%        NaN   26.000000    NaN   16.000000           NaN    3.000000   \n",
       "75%        NaN   33.000000    NaN   16.000000           NaN    4.000000   \n",
       "max        NaN   50.000000    NaN   21.000000           NaN    7.000000   \n",
       "\n",
       "           Fitness         Income       Miles  \n",
       "count   180.000000     180.000000  180.000000  \n",
       "unique         NaN            NaN         NaN  \n",
       "top            NaN            NaN         NaN  \n",
       "freq           NaN            NaN         NaN  \n",
       "mean      3.311111   53719.577778  103.194444  \n",
       "std       0.958869   16506.684226   51.863605  \n",
       "min       1.000000   29562.000000   21.000000  \n",
       "25%       3.000000   44058.750000   66.000000  \n",
       "50%       3.000000   50596.500000   94.000000  \n",
       "75%       4.000000   58668.000000  114.750000  \n",
       "max       5.000000  104581.000000  360.000000  "
      ]
     },
     "execution_count": 17,
     "metadata": {},
     "output_type": "execute_result"
    }
   ],
   "source": [
    "# descriptive statistics for all columns\n",
    "cardio_dataset.describe(include='all')"
   ]
  },
  {
   "cell_type": "code",
   "execution_count": 18,
   "id": "5615b0a0",
   "metadata": {},
   "outputs": [],
   "source": [
    "cardio_dataset_df = pd.DataFrame(cardio_dataset)"
   ]
  },
  {
   "cell_type": "code",
   "execution_count": 22,
   "id": "c23bd97f",
   "metadata": {},
   "outputs": [
    {
     "data": {
      "text/html": [
       "<div>\n",
       "<style scoped>\n",
       "    .dataframe tbody tr th:only-of-type {\n",
       "        vertical-align: middle;\n",
       "    }\n",
       "\n",
       "    .dataframe tbody tr th {\n",
       "        vertical-align: top;\n",
       "    }\n",
       "\n",
       "    .dataframe thead th {\n",
       "        text-align: right;\n",
       "    }\n",
       "</style>\n",
       "<table border=\"1\" class=\"dataframe\">\n",
       "  <thead>\n",
       "    <tr style=\"text-align: right;\">\n",
       "      <th>Gender</th>\n",
       "      <th>Female</th>\n",
       "      <th>Male</th>\n",
       "    </tr>\n",
       "    <tr>\n",
       "      <th>Product</th>\n",
       "      <th></th>\n",
       "      <th></th>\n",
       "    </tr>\n",
       "  </thead>\n",
       "  <tbody>\n",
       "    <tr>\n",
       "      <th>TM195</th>\n",
       "      <td>40</td>\n",
       "      <td>40</td>\n",
       "    </tr>\n",
       "    <tr>\n",
       "      <th>TM498</th>\n",
       "      <td>29</td>\n",
       "      <td>31</td>\n",
       "    </tr>\n",
       "    <tr>\n",
       "      <th>TM798</th>\n",
       "      <td>7</td>\n",
       "      <td>33</td>\n",
       "    </tr>\n",
       "  </tbody>\n",
       "</table>\n",
       "</div>"
      ],
      "text/plain": [
       "Gender   Female  Male\n",
       "Product              \n",
       "TM195        40    40\n",
       "TM498        29    31\n",
       "TM798         7    33"
      ]
     },
     "execution_count": 22,
     "metadata": {},
     "output_type": "execute_result"
    }
   ],
   "source": [
    "pd.crosstab(cardio_dataset['Product'],cardio_dataset['Gender'] )"
   ]
  },
  {
   "cell_type": "code",
   "execution_count": 24,
   "id": "96b9c5ba",
   "metadata": {},
   "outputs": [
    {
     "data": {
      "text/html": [
       "<div>\n",
       "<style scoped>\n",
       "    .dataframe tbody tr th:only-of-type {\n",
       "        vertical-align: middle;\n",
       "    }\n",
       "\n",
       "    .dataframe tbody tr th {\n",
       "        vertical-align: top;\n",
       "    }\n",
       "\n",
       "    .dataframe thead th {\n",
       "        text-align: right;\n",
       "    }\n",
       "</style>\n",
       "<table border=\"1\" class=\"dataframe\">\n",
       "  <thead>\n",
       "    <tr style=\"text-align: right;\">\n",
       "      <th>MaritalStatus</th>\n",
       "      <th>Partnered</th>\n",
       "      <th>Single</th>\n",
       "    </tr>\n",
       "    <tr>\n",
       "      <th>Product</th>\n",
       "      <th></th>\n",
       "      <th></th>\n",
       "    </tr>\n",
       "  </thead>\n",
       "  <tbody>\n",
       "    <tr>\n",
       "      <th>TM195</th>\n",
       "      <td>48</td>\n",
       "      <td>32</td>\n",
       "    </tr>\n",
       "    <tr>\n",
       "      <th>TM498</th>\n",
       "      <td>36</td>\n",
       "      <td>24</td>\n",
       "    </tr>\n",
       "    <tr>\n",
       "      <th>TM798</th>\n",
       "      <td>23</td>\n",
       "      <td>17</td>\n",
       "    </tr>\n",
       "  </tbody>\n",
       "</table>\n",
       "</div>"
      ],
      "text/plain": [
       "MaritalStatus  Partnered  Single\n",
       "Product                         \n",
       "TM195                 48      32\n",
       "TM498                 36      24\n",
       "TM798                 23      17"
      ]
     },
     "execution_count": 24,
     "metadata": {},
     "output_type": "execute_result"
    }
   ],
   "source": [
    "pd.crosstab(cardio_dataset['Product'],cardio_dataset['MaritalStatus'] )"
   ]
  },
  {
   "cell_type": "code",
   "execution_count": 30,
   "id": "d0966a73",
   "metadata": {},
   "outputs": [
    {
     "data": {
      "text/plain": [
       "<AxesSubplot:xlabel='Product', ylabel='count'>"
      ]
     },
     "execution_count": 30,
     "metadata": {},
     "output_type": "execute_result"
    },
    {
     "data": {
      "image/png": "[encoded data removed]",
      "text/plain": [
       "<Figure size 432x288 with 1 Axes>"
      ]
     },
     "metadata": {
      "needs_background": "light"
     },
     "output_type": "display_data"
    }
   ],
   "source": [
    "sn.countplot(x='Product',hue='Gender',data=cardio_dataset)"
   ]
  },
  {
   "cell_type": "code",
   "execution_count": 31,
   "id": "7eeebe89",
   "metadata": {},
   "outputs": [
    {
     "data": {
      "text/plain": [
       "<AxesSubplot:xlabel='Product', ylabel='count'>"
      ]
     },
     "execution_count": 31,
     "metadata": {},
     "output_type": "execute_result"
    },
    {
     "data": {
      "image/png": "[encoded data removed]",
      "text/plain": [
       "<Figure size 432x288 with 1 Axes>"
      ]
     },
     "metadata": {
      "needs_background": "light"
     },
     "output_type": "display_data"
    }
   ],
   "source": [
    "sn.countplot(x='Product',hue='MaritalStatus',data=cardio_dataset)"
   ]
  },
  {
   "cell_type": "code",
   "execution_count": 32,
   "id": "3deacf5b",
   "metadata": {},
   "outputs": [
    {
     "data": {
      "text/plain": [
       "<AxesSubplot:xlabel='Product', ylabel='count'>"
      ]
     },
     "execution_count": 32,
     "metadata": {},
     "output_type": "execute_result"
    },
    {
     "data": {
      "image/png": "[encoded data removed]",
      "text/plain": [
       "<Figure size 432x288 with 1 Axes>"
      ]
     },
     "metadata": {
      "needs_background": "light"
     },
     "output_type": "display_data"
    }
   ],
   "source": [
    "sn.countplot(x='Product',hue='Fitness',data=cardio_dataset)"
   ]
  },
  {
   "cell_type": "code",
   "execution_count": 34,
   "id": "3bfe11b8",
   "metadata": {},
   "outputs": [
    {
     "data": {
      "text/plain": [
       "<seaborn.axisgrid.PairGrid at 0x1c309a04550>"
      ]
     },
     "execution_count": 34,
     "metadata": {},
     "output_type": "execute_result"
    },
    {
     "data": {
      "image/png": "[encoded data removed]",
      "text/plain": [
       "<Figure size 1080x1080 with 42 Axes>"
      ]
     },
     "metadata": {
      "needs_background": "light"
     },
     "output_type": "display_data"
    }
   ],
   "source": [
    "sn.pairplot(cardio_dataset)"
   ]
  },
  {
   "cell_type": "code",
   "execution_count": 37,
   "id": "2330bee6",
   "metadata": {},
   "outputs": [
    {
     "data": {
      "text/plain": [
       "<seaborn.axisgrid.PairGrid at 0x1c30bdabb80>"
      ]
     },
     "execution_count": 37,
     "metadata": {},
     "output_type": "execute_result"
    },
    {
     "data": {
      "image/png": "[encoded data removed]",
      "text/plain": [
       "<Figure size 360x360 with 6 Axes>"
      ]
     },
     "metadata": {
      "needs_background": "light"
     },
     "output_type": "display_data"
    }
   ],
   "source": [
    "sn.pairplot(cardio_dataset, vars=[\"Product\", \"Income\"])"
   ]
  },
  {
   "cell_type": "code",
   "execution_count": 25,
   "id": "add50fc3",
   "metadata": {},
   "outputs": [
    {
     "data": {
      "text/html": [
       "<div>\n",
       "<style scoped>\n",
       "    .dataframe tbody tr th:only-of-type {\n",
       "        vertical-align: middle;\n",
       "    }\n",
       "\n",
       "    .dataframe tbody tr th {\n",
       "        vertical-align: top;\n",
       "    }\n",
       "\n",
       "    .dataframe thead th {\n",
       "        text-align: right;\n",
       "    }\n",
       "</style>\n",
       "<table border=\"1\" class=\"dataframe\">\n",
       "  <thead>\n",
       "    <tr style=\"text-align: right;\">\n",
       "      <th></th>\n",
       "      <th>Age</th>\n",
       "      <th>Education</th>\n",
       "      <th>Usage</th>\n",
       "      <th>Fitness</th>\n",
       "      <th>Income</th>\n",
       "      <th>Miles</th>\n",
       "    </tr>\n",
       "  </thead>\n",
       "  <tbody>\n",
       "    <tr>\n",
       "      <th>Age</th>\n",
       "      <td>1.000000</td>\n",
       "      <td>0.280496</td>\n",
       "      <td>0.015064</td>\n",
       "      <td>0.061105</td>\n",
       "      <td>0.513414</td>\n",
       "      <td>0.036618</td>\n",
       "    </tr>\n",
       "    <tr>\n",
       "      <th>Education</th>\n",
       "      <td>0.280496</td>\n",
       "      <td>1.000000</td>\n",
       "      <td>0.395155</td>\n",
       "      <td>0.410581</td>\n",
       "      <td>0.625827</td>\n",
       "      <td>0.307284</td>\n",
       "    </tr>\n",
       "    <tr>\n",
       "      <th>Usage</th>\n",
       "      <td>0.015064</td>\n",
       "      <td>0.395155</td>\n",
       "      <td>1.000000</td>\n",
       "      <td>0.668606</td>\n",
       "      <td>0.519537</td>\n",
       "      <td>0.759130</td>\n",
       "    </tr>\n",
       "    <tr>\n",
       "      <th>Fitness</th>\n",
       "      <td>0.061105</td>\n",
       "      <td>0.410581</td>\n",
       "      <td>0.668606</td>\n",
       "      <td>1.000000</td>\n",
       "      <td>0.535005</td>\n",
       "      <td>0.785702</td>\n",
       "    </tr>\n",
       "    <tr>\n",
       "      <th>Income</th>\n",
       "      <td>0.513414</td>\n",
       "      <td>0.625827</td>\n",
       "      <td>0.519537</td>\n",
       "      <td>0.535005</td>\n",
       "      <td>1.000000</td>\n",
       "      <td>0.543473</td>\n",
       "    </tr>\n",
       "    <tr>\n",
       "      <th>Miles</th>\n",
       "      <td>0.036618</td>\n",
       "      <td>0.307284</td>\n",
       "      <td>0.759130</td>\n",
       "      <td>0.785702</td>\n",
       "      <td>0.543473</td>\n",
       "      <td>1.000000</td>\n",
       "    </tr>\n",
       "  </tbody>\n",
       "</table>\n",
       "</div>"
      ],
      "text/plain": [
       "                Age  Education     Usage   Fitness    Income     Miles\n",
       "Age        1.000000   0.280496  0.015064  0.061105  0.513414  0.036618\n",
       "Education  0.280496   1.000000  0.395155  0.410581  0.625827  0.307284\n",
       "Usage      0.015064   0.395155  1.000000  0.668606  0.519537  0.759130\n",
       "Fitness    0.061105   0.410581  0.668606  1.000000  0.535005  0.785702\n",
       "Income     0.513414   0.625827  0.519537  0.535005  1.000000  0.543473\n",
       "Miles      0.036618   0.307284  0.759130  0.785702  0.543473  1.000000"
      ]
     },
     "execution_count": 25,
     "metadata": {},
     "output_type": "execute_result"
    }
   ],
   "source": [
    "# get correlation matrix of all\n",
    "corr_matrix = cardio_dataset_df.corr()\n",
    "corr_matrix"
   ]
  },
  {
   "cell_type": "code",
   "execution_count": 28,
   "id": "7cc9f7f8",
   "metadata": {},
   "outputs": [
    {
     "data": {
      "text/plain": [
       "<AxesSubplot:>"
      ]
     },
     "execution_count": 28,
     "metadata": {},
     "output_type": "execute_result"
    },
    {
     "data": {
      "image/png": "[encoded data removed]",
      "text/plain": [
       "<Figure size 432x288 with 2 Axes>"
      ]
     },
     "metadata": {
      "needs_background": "light"
     },
     "output_type": "display_data"
    }
   ],
   "source": [
    "sn.heatmap(corr_matrix,annot=True)"
   ]
  },
  {
   "cell_type": "markdown",
   "id": "b6212ca8",
   "metadata": {},
   "source": [
    "How do income and Fitness afect the decision of which model is bought?"
   ]
  },
  {
   "cell_type": "code",
   "execution_count": 88,
   "id": "40ff885f",
   "metadata": {},
   "outputs": [
    {
     "data": {
      "image/png": "[encoded data removed]",
      "text/plain": [
       "<Figure size 432x288 with 1 Axes>"
      ]
     },
     "metadata": {
      "needs_background": "light"
     },
     "output_type": "display_data"
    }
   ],
   "source": [
    "\n",
    "sn.scatterplot(x='Age', y='Income',data=cardio_dataset, hue = 'Product')\n",
    "plt.show()"
   ]
  },
  {
   "cell_type": "code",
   "execution_count": 90,
   "id": "066018fb",
   "metadata": {},
   "outputs": [
    {
     "data": {
      "image/png": "[encoded data removed]",
      "text/plain": [
       "<Figure size 432x288 with 1 Axes>"
      ]
     },
     "metadata": {
      "needs_background": "light"
     },
     "output_type": "display_data"
    }
   ],
   "source": [
    "# those with higher fitness level have more income\n",
    "sn.scatterplot(x='Fitness', y='Income',data=cardio_dataset, hue = 'Product')\n",
    "plt.show()"
   ]
  },
  {
   "cell_type": "code",
   "execution_count": 95,
   "id": "5f1077e8",
   "metadata": {},
   "outputs": [
    {
     "data": {
      "image/png": "[encoded data removed]",
      "text/plain": [
       "<Figure size 432x288 with 1 Axes>"
      ]
     },
     "metadata": {
      "needs_background": "light"
     },
     "output_type": "display_data"
    }
   ],
   "source": [
    "plt.scatter(x='Fitness', y='Income', data = cardio_dataset)\n",
    "plt.show()"
   ]
  },
  {
   "cell_type": "raw",
   "id": "f17a0e15",
   "metadata": {},
   "source": [
    "Conduct Simple Classification : What product will they buy based on income and fitness level?"
   ]
  },
  {
   "cell_type": "code",
   "execution_count": 138,
   "id": "12172343",
   "metadata": {},
   "outputs": [],
   "source": [
    "from sklearn.pipeline import make_pipeline\n",
    "from sklearn.preprocessing import StandardScaler\n",
    "from sklearn.svm import SVC"
   ]
  },
  {
   "cell_type": "code",
   "execution_count": 139,
   "id": "3f176b79",
   "metadata": {},
   "outputs": [],
   "source": [
    "X = cardio_dataset_df[['Income', 'Fitness', 'Age', 'Gender', 'MaritalStatus']]"
   ]
  },
  {
   "cell_type": "code",
   "execution_count": 145,
   "id": "9b1706a9",
   "metadata": {},
   "outputs": [
    {
     "data": {
      "text/html": [
       "<div>\n",
       "<style scoped>\n",
       "    .dataframe tbody tr th:only-of-type {\n",
       "        vertical-align: middle;\n",
       "    }\n",
       "\n",
       "    .dataframe tbody tr th {\n",
       "        vertical-align: top;\n",
       "    }\n",
       "\n",
       "    .dataframe thead th {\n",
       "        text-align: right;\n",
       "    }\n",
       "</style>\n",
       "<table border=\"1\" class=\"dataframe\">\n",
       "  <thead>\n",
       "    <tr style=\"text-align: right;\">\n",
       "      <th></th>\n",
       "      <th>Income</th>\n",
       "      <th>Fitness</th>\n",
       "      <th>Age</th>\n",
       "      <th>Gender_Female</th>\n",
       "      <th>Gender_Male</th>\n",
       "      <th>MaritalStatus_Partnered</th>\n",
       "      <th>MaritalStatus_Single</th>\n",
       "    </tr>\n",
       "  </thead>\n",
       "  <tbody>\n",
       "    <tr>\n",
       "      <th>0</th>\n",
       "      <td>29562</td>\n",
       "      <td>4</td>\n",
       "      <td>18</td>\n",
       "      <td>0</td>\n",
       "      <td>1</td>\n",
       "      <td>0</td>\n",
       "      <td>1</td>\n",
       "    </tr>\n",
       "    <tr>\n",
       "      <th>1</th>\n",
       "      <td>31836</td>\n",
       "      <td>3</td>\n",
       "      <td>19</td>\n",
       "      <td>0</td>\n",
       "      <td>1</td>\n",
       "      <td>0</td>\n",
       "      <td>1</td>\n",
       "    </tr>\n",
       "    <tr>\n",
       "      <th>2</th>\n",
       "      <td>30699</td>\n",
       "      <td>3</td>\n",
       "      <td>19</td>\n",
       "      <td>1</td>\n",
       "      <td>0</td>\n",
       "      <td>1</td>\n",
       "      <td>0</td>\n",
       "    </tr>\n",
       "    <tr>\n",
       "      <th>3</th>\n",
       "      <td>32973</td>\n",
       "      <td>3</td>\n",
       "      <td>19</td>\n",
       "      <td>0</td>\n",
       "      <td>1</td>\n",
       "      <td>0</td>\n",
       "      <td>1</td>\n",
       "    </tr>\n",
       "    <tr>\n",
       "      <th>4</th>\n",
       "      <td>35247</td>\n",
       "      <td>2</td>\n",
       "      <td>20</td>\n",
       "      <td>0</td>\n",
       "      <td>1</td>\n",
       "      <td>1</td>\n",
       "      <td>0</td>\n",
       "    </tr>\n",
       "    <tr>\n",
       "      <th>...</th>\n",
       "      <td>...</td>\n",
       "      <td>...</td>\n",
       "      <td>...</td>\n",
       "      <td>...</td>\n",
       "      <td>...</td>\n",
       "      <td>...</td>\n",
       "      <td>...</td>\n",
       "    </tr>\n",
       "    <tr>\n",
       "      <th>175</th>\n",
       "      <td>83416</td>\n",
       "      <td>5</td>\n",
       "      <td>40</td>\n",
       "      <td>0</td>\n",
       "      <td>1</td>\n",
       "      <td>0</td>\n",
       "      <td>1</td>\n",
       "    </tr>\n",
       "    <tr>\n",
       "      <th>176</th>\n",
       "      <td>89641</td>\n",
       "      <td>4</td>\n",
       "      <td>42</td>\n",
       "      <td>0</td>\n",
       "      <td>1</td>\n",
       "      <td>0</td>\n",
       "      <td>1</td>\n",
       "    </tr>\n",
       "    <tr>\n",
       "      <th>177</th>\n",
       "      <td>90886</td>\n",
       "      <td>5</td>\n",
       "      <td>45</td>\n",
       "      <td>0</td>\n",
       "      <td>1</td>\n",
       "      <td>0</td>\n",
       "      <td>1</td>\n",
       "    </tr>\n",
       "    <tr>\n",
       "      <th>178</th>\n",
       "      <td>104581</td>\n",
       "      <td>5</td>\n",
       "      <td>47</td>\n",
       "      <td>0</td>\n",
       "      <td>1</td>\n",
       "      <td>1</td>\n",
       "      <td>0</td>\n",
       "    </tr>\n",
       "    <tr>\n",
       "      <th>179</th>\n",
       "      <td>95508</td>\n",
       "      <td>5</td>\n",
       "      <td>48</td>\n",
       "      <td>0</td>\n",
       "      <td>1</td>\n",
       "      <td>1</td>\n",
       "      <td>0</td>\n",
       "    </tr>\n",
       "  </tbody>\n",
       "</table>\n",
       "<p>180 rows × 7 columns</p>\n",
       "</div>"
      ],
      "text/plain": [
       "     Income  Fitness  Age  Gender_Female  Gender_Male  \\\n",
       "0     29562        4   18              0            1   \n",
       "1     31836        3   19              0            1   \n",
       "2     30699        3   19              1            0   \n",
       "3     32973        3   19              0            1   \n",
       "4     35247        2   20              0            1   \n",
       "..      ...      ...  ...            ...          ...   \n",
       "175   83416        5   40              0            1   \n",
       "176   89641        4   42              0            1   \n",
       "177   90886        5   45              0            1   \n",
       "178  104581        5   47              0            1   \n",
       "179   95508        5   48              0            1   \n",
       "\n",
       "     MaritalStatus_Partnered  MaritalStatus_Single  \n",
       "0                          0                     1  \n",
       "1                          0                     1  \n",
       "2                          1                     0  \n",
       "3                          0                     1  \n",
       "4                          1                     0  \n",
       "..                       ...                   ...  \n",
       "175                        0                     1  \n",
       "176                        0                     1  \n",
       "177                        0                     1  \n",
       "178                        1                     0  \n",
       "179                        1                     0  \n",
       "\n",
       "[180 rows x 7 columns]"
      ]
     },
     "execution_count": 145,
     "metadata": {},
     "output_type": "execute_result"
    }
   ],
   "source": [
    "X = pd.get_dummies(X)\n",
    "X"
   ]
  },
  {
   "cell_type": "code",
   "execution_count": 146,
   "id": "febeb858",
   "metadata": {},
   "outputs": [
    {
     "data": {
      "text/html": [
       "<div>\n",
       "<style scoped>\n",
       "    .dataframe tbody tr th:only-of-type {\n",
       "        vertical-align: middle;\n",
       "    }\n",
       "\n",
       "    .dataframe tbody tr th {\n",
       "        vertical-align: top;\n",
       "    }\n",
       "\n",
       "    .dataframe thead th {\n",
       "        text-align: right;\n",
       "    }\n",
       "</style>\n",
       "<table border=\"1\" class=\"dataframe\">\n",
       "  <thead>\n",
       "    <tr style=\"text-align: right;\">\n",
       "      <th></th>\n",
       "      <th>Product</th>\n",
       "    </tr>\n",
       "  </thead>\n",
       "  <tbody>\n",
       "    <tr>\n",
       "      <th>0</th>\n",
       "      <td>TM195</td>\n",
       "    </tr>\n",
       "    <tr>\n",
       "      <th>1</th>\n",
       "      <td>TM195</td>\n",
       "    </tr>\n",
       "    <tr>\n",
       "      <th>2</th>\n",
       "      <td>TM195</td>\n",
       "    </tr>\n",
       "    <tr>\n",
       "      <th>3</th>\n",
       "      <td>TM195</td>\n",
       "    </tr>\n",
       "    <tr>\n",
       "      <th>4</th>\n",
       "      <td>TM195</td>\n",
       "    </tr>\n",
       "    <tr>\n",
       "      <th>...</th>\n",
       "      <td>...</td>\n",
       "    </tr>\n",
       "    <tr>\n",
       "      <th>175</th>\n",
       "      <td>TM798</td>\n",
       "    </tr>\n",
       "    <tr>\n",
       "      <th>176</th>\n",
       "      <td>TM798</td>\n",
       "    </tr>\n",
       "    <tr>\n",
       "      <th>177</th>\n",
       "      <td>TM798</td>\n",
       "    </tr>\n",
       "    <tr>\n",
       "      <th>178</th>\n",
       "      <td>TM798</td>\n",
       "    </tr>\n",
       "    <tr>\n",
       "      <th>179</th>\n",
       "      <td>TM798</td>\n",
       "    </tr>\n",
       "  </tbody>\n",
       "</table>\n",
       "<p>180 rows × 1 columns</p>\n",
       "</div>"
      ],
      "text/plain": [
       "    Product\n",
       "0     TM195\n",
       "1     TM195\n",
       "2     TM195\n",
       "3     TM195\n",
       "4     TM195\n",
       "..      ...\n",
       "175   TM798\n",
       "176   TM798\n",
       "177   TM798\n",
       "178   TM798\n",
       "179   TM798\n",
       "\n",
       "[180 rows x 1 columns]"
      ]
     },
     "execution_count": 146,
     "metadata": {},
     "output_type": "execute_result"
    }
   ],
   "source": [
    "Y = cardio_dataset_df[['Product']]\n",
    "Y"
   ]
  },
  {
   "cell_type": "code",
   "execution_count": 160,
   "id": "ef16bd54",
   "metadata": {},
   "outputs": [],
   "source": [
    "from sklearn.model_selection import train_test_split\n",
    "\n",
    "X_train, X_test, y_train, y_test = train_test_split(\n",
    "    X, Y, test_size=0.4, random_state=42)"
   ]
  },
  {
   "cell_type": "code",
   "execution_count": 161,
   "id": "46895ded",
   "metadata": {},
   "outputs": [
    {
     "name": "stderr",
     "output_type": "stream",
     "text": [
      "C:\\Users\\Sajiah Naqib\\anaconda3\\envs\\adm\\lib\\site-packages\\sklearn\\utils\\validation.py:985: DataConversionWarning: A column-vector y was passed when a 1d array was expected. Please change the shape of y to (n_samples, ), for example using ravel().\n",
      "  y = column_or_1d(y, warn=True)\n"
     ]
    }
   ],
   "source": [
    "cls = SVC().fit(X_train, y_train)"
   ]
  },
  {
   "cell_type": "code",
   "execution_count": 162,
   "id": "e2d3afd7",
   "metadata": {},
   "outputs": [],
   "source": [
    "from sklearn.metrics import accuracy_score, precision_score,f1_score, classification_report, confusion_matrix, recall_score"
   ]
  },
  {
   "cell_type": "code",
   "execution_count": 163,
   "id": "dfbcffdd",
   "metadata": {},
   "outputs": [
    {
     "name": "stdout",
     "output_type": "stream",
     "text": [
      "\n",
      "Train Accuracy: 54.63%\n",
      "Test Accuracy: 59.72%\n"
     ]
    }
   ],
   "source": [
    "accuracy_train = accuracy_score(y_train, cls.predict(X_train))\n",
    "accuracy_test = accuracy_score(y_test, cls.predict(X_test))\n",
    "print('\\nTrain Accuracy:{: .2f}%'.format(accuracy_train*100))\n",
    "print('Test Accuracy:{: .2f}%'.format(accuracy_test*100))"
   ]
  },
  {
   "cell_type": "code",
   "execution_count": 164,
   "id": "cca78c64",
   "metadata": {},
   "outputs": [],
   "source": [
    "predictions = cls.predict(X_test)"
   ]
  },
  {
   "cell_type": "code",
   "execution_count": 165,
   "id": "5e67aca1",
   "metadata": {},
   "outputs": [
    {
     "name": "stdout",
     "output_type": "stream",
     "text": [
      "              precision    recall  f1-score   support\n",
      "\n",
      "       TM195      0.532     1.000     0.695        33\n",
      "       TM498      0.000     0.000     0.000        20\n",
      "       TM798      1.000     0.526     0.690        19\n",
      "\n",
      "    accuracy                          0.597        72\n",
      "   macro avg      0.511     0.509     0.461        72\n",
      "weighted avg      0.508     0.597     0.500        72\n",
      "\n"
     ]
    },
    {
     "name": "stderr",
     "output_type": "stream",
     "text": [
      "C:\\Users\\Sajiah Naqib\\anaconda3\\envs\\adm\\lib\\site-packages\\sklearn\\metrics\\_classification.py:1308: UndefinedMetricWarning: Precision and F-score are ill-defined and being set to 0.0 in labels with no predicted samples. Use `zero_division` parameter to control this behavior.\n",
      "  _warn_prf(average, modifier, msg_start, len(result))\n",
      "C:\\Users\\Sajiah Naqib\\anaconda3\\envs\\adm\\lib\\site-packages\\sklearn\\metrics\\_classification.py:1308: UndefinedMetricWarning: Precision and F-score are ill-defined and being set to 0.0 in labels with no predicted samples. Use `zero_division` parameter to control this behavior.\n",
      "  _warn_prf(average, modifier, msg_start, len(result))\n",
      "C:\\Users\\Sajiah Naqib\\anaconda3\\envs\\adm\\lib\\site-packages\\sklearn\\metrics\\_classification.py:1308: UndefinedMetricWarning: Precision and F-score are ill-defined and being set to 0.0 in labels with no predicted samples. Use `zero_division` parameter to control this behavior.\n",
      "  _warn_prf(average, modifier, msg_start, len(result))\n"
     ]
    }
   ],
   "source": [
    "print(classification_report(y_test, predictions, digits=3))"
   ]
  },
  {
   "cell_type": "code",
   "execution_count": 166,
   "id": "c11a57db",
   "metadata": {},
   "outputs": [
    {
     "name": "stdout",
     "output_type": "stream",
     "text": [
      "[[33  0  0]\n",
      " [20  0  0]\n",
      " [ 9  0 10]]\n"
     ]
    }
   ],
   "source": [
    "print(confusion_matrix(y_test, predictions))"
   ]
  },
  {
   "cell_type": "markdown",
   "id": "a2ac5628",
   "metadata": {},
   "source": [
    "Trying: Decision Trees (Catboost)"
   ]
  },
  {
   "cell_type": "code",
   "execution_count": 167,
   "id": "f5252413",
   "metadata": {},
   "outputs": [],
   "source": [
    "from catboost import CatBoostClassifier"
   ]
  },
  {
   "cell_type": "code",
   "execution_count": 168,
   "id": "86441935",
   "metadata": {},
   "outputs": [
    {
     "name": "stdout",
     "output_type": "stream",
     "text": [
      "Learning rate set to 0.126881\n",
      "0:\tlearn: 1.0587367\ttotal: 3.59ms\tremaining: 1.79s\n",
      "1:\tlearn: 1.0152538\ttotal: 6.83ms\tremaining: 1.7s\n",
      "2:\tlearn: 0.9793258\ttotal: 10ms\tremaining: 1.66s\n",
      "3:\tlearn: 0.9481746\ttotal: 13.3ms\tremaining: 1.65s\n",
      "4:\tlearn: 0.9218454\ttotal: 16.8ms\tremaining: 1.67s\n",
      "5:\tlearn: 0.8976763\ttotal: 20.4ms\tremaining: 1.68s\n",
      "6:\tlearn: 0.8809466\ttotal: 23.8ms\tremaining: 1.68s\n",
      "7:\tlearn: 0.8602089\ttotal: 27ms\tremaining: 1.66s\n",
      "8:\tlearn: 0.8446503\ttotal: 29.5ms\tremaining: 1.61s\n",
      "9:\tlearn: 0.8405086\ttotal: 31.4ms\tremaining: 1.54s\n",
      "10:\tlearn: 0.8181839\ttotal: 35.4ms\tremaining: 1.57s\n",
      "11:\tlearn: 0.7993646\ttotal: 38.2ms\tremaining: 1.55s\n",
      "12:\tlearn: 0.7855460\ttotal: 41.6ms\tremaining: 1.56s\n",
      "13:\tlearn: 0.7722164\ttotal: 45ms\tremaining: 1.56s\n",
      "14:\tlearn: 0.7582183\ttotal: 48.4ms\tremaining: 1.56s\n",
      "15:\tlearn: 0.7465757\ttotal: 51.3ms\tremaining: 1.55s\n",
      "16:\tlearn: 0.7340047\ttotal: 54.1ms\tremaining: 1.54s\n",
      "17:\tlearn: 0.7207282\ttotal: 57ms\tremaining: 1.53s\n",
      "18:\tlearn: 0.7075961\ttotal: 60ms\tremaining: 1.52s\n",
      "19:\tlearn: 0.6969965\ttotal: 62.9ms\tremaining: 1.51s\n",
      "20:\tlearn: 0.6864563\ttotal: 65.8ms\tremaining: 1.5s\n",
      "21:\tlearn: 0.6776332\ttotal: 68.6ms\tremaining: 1.49s\n",
      "22:\tlearn: 0.6703955\ttotal: 71.4ms\tremaining: 1.48s\n",
      "23:\tlearn: 0.6616600\ttotal: 74.2ms\tremaining: 1.47s\n",
      "24:\tlearn: 0.6517530\ttotal: 77ms\tremaining: 1.46s\n",
      "25:\tlearn: 0.6413551\ttotal: 81.1ms\tremaining: 1.48s\n",
      "26:\tlearn: 0.6330494\ttotal: 83.9ms\tremaining: 1.47s\n",
      "27:\tlearn: 0.6255763\ttotal: 86.7ms\tremaining: 1.46s\n",
      "28:\tlearn: 0.6178729\ttotal: 89.6ms\tremaining: 1.46s\n",
      "29:\tlearn: 0.6087637\ttotal: 92.9ms\tremaining: 1.45s\n",
      "30:\tlearn: 0.6025825\ttotal: 95.7ms\tremaining: 1.45s\n",
      "31:\tlearn: 0.5953549\ttotal: 98.4ms\tremaining: 1.44s\n",
      "32:\tlearn: 0.5882507\ttotal: 101ms\tremaining: 1.43s\n",
      "33:\tlearn: 0.5823196\ttotal: 104ms\tremaining: 1.43s\n",
      "34:\tlearn: 0.5745141\ttotal: 107ms\tremaining: 1.42s\n",
      "35:\tlearn: 0.5678001\ttotal: 110ms\tremaining: 1.42s\n",
      "36:\tlearn: 0.5648514\ttotal: 113ms\tremaining: 1.41s\n",
      "37:\tlearn: 0.5582789\ttotal: 115ms\tremaining: 1.4s\n",
      "38:\tlearn: 0.5527104\ttotal: 118ms\tremaining: 1.39s\n",
      "39:\tlearn: 0.5478957\ttotal: 121ms\tremaining: 1.39s\n",
      "40:\tlearn: 0.5423310\ttotal: 124ms\tremaining: 1.39s\n",
      "41:\tlearn: 0.5361946\ttotal: 127ms\tremaining: 1.38s\n",
      "42:\tlearn: 0.5321993\ttotal: 129ms\tremaining: 1.37s\n",
      "43:\tlearn: 0.5264127\ttotal: 132ms\tremaining: 1.37s\n",
      "44:\tlearn: 0.5201524\ttotal: 135ms\tremaining: 1.37s\n",
      "45:\tlearn: 0.5154185\ttotal: 138ms\tremaining: 1.36s\n",
      "46:\tlearn: 0.5092612\ttotal: 141ms\tremaining: 1.36s\n",
      "47:\tlearn: 0.5050929\ttotal: 144ms\tremaining: 1.35s\n",
      "48:\tlearn: 0.5000211\ttotal: 146ms\tremaining: 1.35s\n",
      "49:\tlearn: 0.4955248\ttotal: 149ms\tremaining: 1.34s\n",
      "50:\tlearn: 0.4910728\ttotal: 152ms\tremaining: 1.34s\n",
      "51:\tlearn: 0.4877433\ttotal: 156ms\tremaining: 1.34s\n",
      "52:\tlearn: 0.4838659\ttotal: 159ms\tremaining: 1.34s\n",
      "53:\tlearn: 0.4800800\ttotal: 162ms\tremaining: 1.34s\n",
      "54:\tlearn: 0.4761757\ttotal: 165ms\tremaining: 1.34s\n",
      "55:\tlearn: 0.4725615\ttotal: 168ms\tremaining: 1.33s\n",
      "56:\tlearn: 0.4682306\ttotal: 171ms\tremaining: 1.33s\n",
      "57:\tlearn: 0.4650337\ttotal: 174ms\tremaining: 1.32s\n",
      "58:\tlearn: 0.4607090\ttotal: 177ms\tremaining: 1.32s\n",
      "59:\tlearn: 0.4571557\ttotal: 180ms\tremaining: 1.32s\n",
      "60:\tlearn: 0.4529451\ttotal: 183ms\tremaining: 1.32s\n",
      "61:\tlearn: 0.4496446\ttotal: 186ms\tremaining: 1.32s\n",
      "62:\tlearn: 0.4452025\ttotal: 189ms\tremaining: 1.31s\n",
      "63:\tlearn: 0.4424893\ttotal: 192ms\tremaining: 1.31s\n",
      "64:\tlearn: 0.4375318\ttotal: 195ms\tremaining: 1.31s\n",
      "65:\tlearn: 0.4337163\ttotal: 198ms\tremaining: 1.3s\n",
      "66:\tlearn: 0.4303540\ttotal: 201ms\tremaining: 1.3s\n",
      "67:\tlearn: 0.4269893\ttotal: 204ms\tremaining: 1.29s\n",
      "68:\tlearn: 0.4248603\ttotal: 207ms\tremaining: 1.29s\n",
      "69:\tlearn: 0.4218735\ttotal: 209ms\tremaining: 1.28s\n",
      "70:\tlearn: 0.4194549\ttotal: 212ms\tremaining: 1.28s\n",
      "71:\tlearn: 0.4163262\ttotal: 215ms\tremaining: 1.28s\n",
      "72:\tlearn: 0.4128087\ttotal: 218ms\tremaining: 1.27s\n",
      "73:\tlearn: 0.4107966\ttotal: 221ms\tremaining: 1.27s\n",
      "74:\tlearn: 0.4075728\ttotal: 224ms\tremaining: 1.27s\n",
      "75:\tlearn: 0.4042416\ttotal: 226ms\tremaining: 1.26s\n",
      "76:\tlearn: 0.4005687\ttotal: 229ms\tremaining: 1.26s\n",
      "77:\tlearn: 0.3992000\ttotal: 232ms\tremaining: 1.25s\n",
      "78:\tlearn: 0.3974042\ttotal: 235ms\tremaining: 1.25s\n",
      "79:\tlearn: 0.3944153\ttotal: 237ms\tremaining: 1.25s\n",
      "80:\tlearn: 0.3918730\ttotal: 240ms\tremaining: 1.24s\n",
      "81:\tlearn: 0.3886580\ttotal: 244ms\tremaining: 1.24s\n",
      "82:\tlearn: 0.3860869\ttotal: 247ms\tremaining: 1.24s\n",
      "83:\tlearn: 0.3832628\ttotal: 250ms\tremaining: 1.24s\n",
      "84:\tlearn: 0.3806346\ttotal: 254ms\tremaining: 1.24s\n",
      "85:\tlearn: 0.3788398\ttotal: 257ms\tremaining: 1.24s\n",
      "86:\tlearn: 0.3767308\ttotal: 260ms\tremaining: 1.24s\n",
      "87:\tlearn: 0.3747125\ttotal: 264ms\tremaining: 1.23s\n",
      "88:\tlearn: 0.3718576\ttotal: 267ms\tremaining: 1.23s\n",
      "89:\tlearn: 0.3689299\ttotal: 271ms\tremaining: 1.23s\n",
      "90:\tlearn: 0.3657871\ttotal: 274ms\tremaining: 1.23s\n",
      "91:\tlearn: 0.3649084\ttotal: 277ms\tremaining: 1.23s\n",
      "92:\tlearn: 0.3626607\ttotal: 281ms\tremaining: 1.23s\n",
      "93:\tlearn: 0.3587053\ttotal: 284ms\tremaining: 1.23s\n",
      "94:\tlearn: 0.3564476\ttotal: 288ms\tremaining: 1.23s\n",
      "95:\tlearn: 0.3545049\ttotal: 291ms\tremaining: 1.22s\n",
      "96:\tlearn: 0.3522106\ttotal: 294ms\tremaining: 1.22s\n",
      "97:\tlearn: 0.3501467\ttotal: 297ms\tremaining: 1.22s\n",
      "98:\tlearn: 0.3484021\ttotal: 300ms\tremaining: 1.22s\n",
      "99:\tlearn: 0.3459559\ttotal: 303ms\tremaining: 1.21s\n",
      "100:\tlearn: 0.3440025\ttotal: 306ms\tremaining: 1.21s\n",
      "101:\tlearn: 0.3419237\ttotal: 309ms\tremaining: 1.21s\n",
      "102:\tlearn: 0.3401521\ttotal: 312ms\tremaining: 1.2s\n",
      "103:\tlearn: 0.3388362\ttotal: 316ms\tremaining: 1.2s\n",
      "104:\tlearn: 0.3370541\ttotal: 320ms\tremaining: 1.2s\n",
      "105:\tlearn: 0.3351608\ttotal: 323ms\tremaining: 1.2s\n",
      "106:\tlearn: 0.3335810\ttotal: 327ms\tremaining: 1.2s\n",
      "107:\tlearn: 0.3320001\ttotal: 331ms\tremaining: 1.2s\n",
      "108:\tlearn: 0.3307023\ttotal: 334ms\tremaining: 1.2s\n",
      "109:\tlearn: 0.3294483\ttotal: 337ms\tremaining: 1.2s\n",
      "110:\tlearn: 0.3277713\ttotal: 340ms\tremaining: 1.19s\n",
      "111:\tlearn: 0.3257785\ttotal: 343ms\tremaining: 1.19s\n",
      "112:\tlearn: 0.3249643\ttotal: 348ms\tremaining: 1.19s\n",
      "113:\tlearn: 0.3232458\ttotal: 352ms\tremaining: 1.19s\n",
      "114:\tlearn: 0.3211633\ttotal: 356ms\tremaining: 1.19s\n",
      "115:\tlearn: 0.3201085\ttotal: 360ms\tremaining: 1.19s\n",
      "116:\tlearn: 0.3187724\ttotal: 364ms\tremaining: 1.19s\n",
      "117:\tlearn: 0.3171847\ttotal: 367ms\tremaining: 1.19s\n",
      "118:\tlearn: 0.3145648\ttotal: 371ms\tremaining: 1.19s\n",
      "119:\tlearn: 0.3129972\ttotal: 374ms\tremaining: 1.19s\n",
      "120:\tlearn: 0.3119346\ttotal: 377ms\tremaining: 1.18s\n",
      "121:\tlearn: 0.3110351\ttotal: 380ms\tremaining: 1.18s\n",
      "122:\tlearn: 0.3093414\ttotal: 383ms\tremaining: 1.17s\n",
      "123:\tlearn: 0.3073242\ttotal: 386ms\tremaining: 1.17s\n",
      "124:\tlearn: 0.3058744\ttotal: 389ms\tremaining: 1.17s\n",
      "125:\tlearn: 0.3045405\ttotal: 392ms\tremaining: 1.16s\n",
      "126:\tlearn: 0.3036246\ttotal: 395ms\tremaining: 1.16s\n",
      "127:\tlearn: 0.3022477\ttotal: 398ms\tremaining: 1.16s\n",
      "128:\tlearn: 0.3009358\ttotal: 401ms\tremaining: 1.15s\n",
      "129:\tlearn: 0.2991079\ttotal: 403ms\tremaining: 1.15s\n",
      "130:\tlearn: 0.2978607\ttotal: 406ms\tremaining: 1.14s\n",
      "131:\tlearn: 0.2961728\ttotal: 409ms\tremaining: 1.14s\n",
      "132:\tlearn: 0.2945711\ttotal: 412ms\tremaining: 1.14s\n",
      "133:\tlearn: 0.2935651\ttotal: 415ms\tremaining: 1.13s\n",
      "134:\tlearn: 0.2922642\ttotal: 417ms\tremaining: 1.13s\n",
      "135:\tlearn: 0.2906484\ttotal: 420ms\tremaining: 1.12s\n",
      "136:\tlearn: 0.2897684\ttotal: 423ms\tremaining: 1.12s\n",
      "137:\tlearn: 0.2887278\ttotal: 425ms\tremaining: 1.11s\n",
      "138:\tlearn: 0.2875485\ttotal: 428ms\tremaining: 1.11s\n",
      "139:\tlearn: 0.2861883\ttotal: 431ms\tremaining: 1.11s\n",
      "140:\tlearn: 0.2847000\ttotal: 433ms\tremaining: 1.1s\n",
      "141:\tlearn: 0.2835910\ttotal: 436ms\tremaining: 1.1s\n",
      "142:\tlearn: 0.2813630\ttotal: 439ms\tremaining: 1.1s\n",
      "143:\tlearn: 0.2804207\ttotal: 442ms\tremaining: 1.09s\n",
      "144:\tlearn: 0.2778240\ttotal: 445ms\tremaining: 1.09s\n",
      "145:\tlearn: 0.2768206\ttotal: 447ms\tremaining: 1.08s\n",
      "146:\tlearn: 0.2754961\ttotal: 450ms\tremaining: 1.08s\n",
      "147:\tlearn: 0.2741443\ttotal: 453ms\tremaining: 1.08s\n",
      "148:\tlearn: 0.2727880\ttotal: 456ms\tremaining: 1.07s\n",
      "149:\tlearn: 0.2718629\ttotal: 458ms\tremaining: 1.07s\n",
      "150:\tlearn: 0.2707809\ttotal: 461ms\tremaining: 1.07s\n",
      "151:\tlearn: 0.2696859\ttotal: 464ms\tremaining: 1.06s\n",
      "152:\tlearn: 0.2684556\ttotal: 467ms\tremaining: 1.06s\n",
      "153:\tlearn: 0.2672791\ttotal: 469ms\tremaining: 1.05s\n",
      "154:\tlearn: 0.2663773\ttotal: 472ms\tremaining: 1.05s\n",
      "155:\tlearn: 0.2649216\ttotal: 475ms\tremaining: 1.05s\n",
      "156:\tlearn: 0.2639075\ttotal: 477ms\tremaining: 1.04s\n",
      "157:\tlearn: 0.2623963\ttotal: 481ms\tremaining: 1.04s\n",
      "158:\tlearn: 0.2611604\ttotal: 484ms\tremaining: 1.04s\n",
      "159:\tlearn: 0.2598079\ttotal: 487ms\tremaining: 1.03s\n",
      "160:\tlearn: 0.2582187\ttotal: 491ms\tremaining: 1.03s\n",
      "161:\tlearn: 0.2570159\ttotal: 494ms\tremaining: 1.03s\n",
      "162:\tlearn: 0.2558662\ttotal: 497ms\tremaining: 1.03s\n",
      "163:\tlearn: 0.2551222\ttotal: 500ms\tremaining: 1.02s\n",
      "164:\tlearn: 0.2541704\ttotal: 503ms\tremaining: 1.02s\n",
      "165:\tlearn: 0.2526278\ttotal: 506ms\tremaining: 1.02s\n",
      "166:\tlearn: 0.2519681\ttotal: 509ms\tremaining: 1.01s\n",
      "167:\tlearn: 0.2514224\ttotal: 512ms\tremaining: 1.01s\n",
      "168:\tlearn: 0.2502850\ttotal: 516ms\tremaining: 1.01s\n",
      "169:\tlearn: 0.2494242\ttotal: 519ms\tremaining: 1.01s\n",
      "170:\tlearn: 0.2485845\ttotal: 522ms\tremaining: 1s\n",
      "171:\tlearn: 0.2474794\ttotal: 525ms\tremaining: 1s\n",
      "172:\tlearn: 0.2468281\ttotal: 528ms\tremaining: 999ms\n",
      "173:\tlearn: 0.2457486\ttotal: 531ms\tremaining: 995ms\n",
      "174:\tlearn: 0.2452600\ttotal: 534ms\tremaining: 992ms\n",
      "175:\tlearn: 0.2445031\ttotal: 537ms\tremaining: 989ms\n",
      "176:\tlearn: 0.2439759\ttotal: 540ms\tremaining: 986ms\n",
      "177:\tlearn: 0.2432424\ttotal: 543ms\tremaining: 983ms\n",
      "178:\tlearn: 0.2422048\ttotal: 546ms\tremaining: 980ms\n",
      "179:\tlearn: 0.2413211\ttotal: 550ms\tremaining: 977ms\n",
      "180:\tlearn: 0.2398110\ttotal: 553ms\tremaining: 974ms\n",
      "181:\tlearn: 0.2387446\ttotal: 556ms\tremaining: 971ms\n",
      "182:\tlearn: 0.2371904\ttotal: 559ms\tremaining: 968ms\n",
      "183:\tlearn: 0.2361774\ttotal: 562ms\tremaining: 964ms\n",
      "184:\tlearn: 0.2357140\ttotal: 565ms\tremaining: 961ms\n",
      "185:\tlearn: 0.2346999\ttotal: 568ms\tremaining: 959ms\n",
      "186:\tlearn: 0.2333258\ttotal: 571ms\tremaining: 956ms\n",
      "187:\tlearn: 0.2321035\ttotal: 574ms\tremaining: 953ms\n",
      "188:\tlearn: 0.2311978\ttotal: 577ms\tremaining: 949ms\n",
      "189:\tlearn: 0.2304204\ttotal: 580ms\tremaining: 946ms\n",
      "190:\tlearn: 0.2295625\ttotal: 583ms\tremaining: 943ms\n",
      "191:\tlearn: 0.2289787\ttotal: 586ms\tremaining: 940ms\n",
      "192:\tlearn: 0.2281781\ttotal: 589ms\tremaining: 936ms\n",
      "193:\tlearn: 0.2269204\ttotal: 591ms\tremaining: 933ms\n",
      "194:\tlearn: 0.2259503\ttotal: 594ms\tremaining: 929ms\n",
      "195:\tlearn: 0.2246877\ttotal: 597ms\tremaining: 926ms\n",
      "196:\tlearn: 0.2241188\ttotal: 599ms\tremaining: 922ms\n",
      "197:\tlearn: 0.2232116\ttotal: 602ms\tremaining: 919ms\n",
      "198:\tlearn: 0.2223772\ttotal: 605ms\tremaining: 915ms\n",
      "199:\tlearn: 0.2213407\ttotal: 608ms\tremaining: 912ms\n",
      "200:\tlearn: 0.2207138\ttotal: 611ms\tremaining: 908ms\n",
      "201:\tlearn: 0.2196886\ttotal: 613ms\tremaining: 905ms\n",
      "202:\tlearn: 0.2186742\ttotal: 616ms\tremaining: 902ms\n",
      "203:\tlearn: 0.2180719\ttotal: 619ms\tremaining: 898ms\n",
      "204:\tlearn: 0.2173998\ttotal: 622ms\tremaining: 895ms\n",
      "205:\tlearn: 0.2169358\ttotal: 625ms\tremaining: 891ms\n",
      "206:\tlearn: 0.2163443\ttotal: 627ms\tremaining: 888ms\n",
      "207:\tlearn: 0.2157758\ttotal: 630ms\tremaining: 885ms\n",
      "208:\tlearn: 0.2149389\ttotal: 633ms\tremaining: 881ms\n",
      "209:\tlearn: 0.2144542\ttotal: 636ms\tremaining: 878ms\n",
      "210:\tlearn: 0.2138591\ttotal: 639ms\tremaining: 875ms\n"
     ]
    },
    {
     "name": "stdout",
     "output_type": "stream",
     "text": [
      "211:\tlearn: 0.2130543\ttotal: 643ms\tremaining: 873ms\n",
      "212:\tlearn: 0.2123900\ttotal: 646ms\tremaining: 870ms\n",
      "213:\tlearn: 0.2117724\ttotal: 650ms\tremaining: 868ms\n",
      "214:\tlearn: 0.2111543\ttotal: 653ms\tremaining: 865ms\n",
      "215:\tlearn: 0.2106757\ttotal: 656ms\tremaining: 862ms\n",
      "216:\tlearn: 0.2099016\ttotal: 659ms\tremaining: 859ms\n",
      "217:\tlearn: 0.2092914\ttotal: 661ms\tremaining: 856ms\n",
      "218:\tlearn: 0.2083507\ttotal: 664ms\tremaining: 852ms\n",
      "219:\tlearn: 0.2077663\ttotal: 667ms\tremaining: 849ms\n",
      "220:\tlearn: 0.2073017\ttotal: 670ms\tremaining: 846ms\n",
      "221:\tlearn: 0.2068573\ttotal: 673ms\tremaining: 843ms\n",
      "222:\tlearn: 0.2060692\ttotal: 676ms\tremaining: 839ms\n",
      "223:\tlearn: 0.2052531\ttotal: 679ms\tremaining: 836ms\n",
      "224:\tlearn: 0.2047941\ttotal: 682ms\tremaining: 833ms\n",
      "225:\tlearn: 0.2041206\ttotal: 685ms\tremaining: 830ms\n",
      "226:\tlearn: 0.2034477\ttotal: 688ms\tremaining: 828ms\n",
      "227:\tlearn: 0.2024130\ttotal: 691ms\tremaining: 825ms\n",
      "228:\tlearn: 0.2013029\ttotal: 695ms\tremaining: 823ms\n",
      "229:\tlearn: 0.2006057\ttotal: 699ms\tremaining: 820ms\n",
      "230:\tlearn: 0.2000782\ttotal: 701ms\tremaining: 817ms\n",
      "231:\tlearn: 0.1995629\ttotal: 704ms\tremaining: 814ms\n",
      "232:\tlearn: 0.1989893\ttotal: 707ms\tremaining: 810ms\n",
      "233:\tlearn: 0.1984555\ttotal: 710ms\tremaining: 807ms\n",
      "234:\tlearn: 0.1981061\ttotal: 714ms\tremaining: 805ms\n",
      "235:\tlearn: 0.1978168\ttotal: 717ms\tremaining: 802ms\n",
      "236:\tlearn: 0.1971160\ttotal: 720ms\tremaining: 799ms\n",
      "237:\tlearn: 0.1966969\ttotal: 722ms\tremaining: 795ms\n",
      "238:\tlearn: 0.1961818\ttotal: 725ms\tremaining: 792ms\n",
      "239:\tlearn: 0.1958454\ttotal: 728ms\tremaining: 789ms\n",
      "240:\tlearn: 0.1952850\ttotal: 731ms\tremaining: 785ms\n",
      "241:\tlearn: 0.1948400\ttotal: 734ms\tremaining: 782ms\n",
      "242:\tlearn: 0.1942383\ttotal: 737ms\tremaining: 779ms\n",
      "243:\tlearn: 0.1932948\ttotal: 740ms\tremaining: 776ms\n",
      "244:\tlearn: 0.1928154\ttotal: 742ms\tremaining: 773ms\n",
      "245:\tlearn: 0.1924633\ttotal: 745ms\tremaining: 769ms\n",
      "246:\tlearn: 0.1920724\ttotal: 748ms\tremaining: 766ms\n",
      "247:\tlearn: 0.1915088\ttotal: 752ms\tremaining: 764ms\n",
      "248:\tlearn: 0.1908940\ttotal: 755ms\tremaining: 761ms\n",
      "249:\tlearn: 0.1904713\ttotal: 758ms\tremaining: 758ms\n",
      "250:\tlearn: 0.1899748\ttotal: 761ms\tremaining: 755ms\n",
      "251:\tlearn: 0.1893549\ttotal: 763ms\tremaining: 751ms\n",
      "252:\tlearn: 0.1888747\ttotal: 766ms\tremaining: 748ms\n",
      "253:\tlearn: 0.1879957\ttotal: 769ms\tremaining: 745ms\n",
      "254:\tlearn: 0.1877402\ttotal: 772ms\tremaining: 742ms\n",
      "255:\tlearn: 0.1870609\ttotal: 775ms\tremaining: 739ms\n",
      "256:\tlearn: 0.1863207\ttotal: 778ms\tremaining: 735ms\n",
      "257:\tlearn: 0.1855943\ttotal: 780ms\tremaining: 732ms\n",
      "258:\tlearn: 0.1852157\ttotal: 784ms\tremaining: 729ms\n",
      "259:\tlearn: 0.1846456\ttotal: 786ms\tremaining: 726ms\n",
      "260:\tlearn: 0.1840585\ttotal: 789ms\tremaining: 723ms\n",
      "261:\tlearn: 0.1835666\ttotal: 792ms\tremaining: 720ms\n",
      "262:\tlearn: 0.1829951\ttotal: 795ms\tremaining: 717ms\n",
      "263:\tlearn: 0.1825272\ttotal: 798ms\tremaining: 713ms\n",
      "264:\tlearn: 0.1820094\ttotal: 801ms\tremaining: 710ms\n",
      "265:\tlearn: 0.1815673\ttotal: 804ms\tremaining: 707ms\n",
      "266:\tlearn: 0.1808804\ttotal: 807ms\tremaining: 705ms\n",
      "267:\tlearn: 0.1807216\ttotal: 812ms\tremaining: 703ms\n",
      "268:\tlearn: 0.1801936\ttotal: 815ms\tremaining: 700ms\n",
      "269:\tlearn: 0.1798967\ttotal: 817ms\tremaining: 696ms\n",
      "270:\tlearn: 0.1794881\ttotal: 820ms\tremaining: 693ms\n",
      "271:\tlearn: 0.1790504\ttotal: 823ms\tremaining: 690ms\n",
      "272:\tlearn: 0.1786180\ttotal: 826ms\tremaining: 687ms\n",
      "273:\tlearn: 0.1780577\ttotal: 829ms\tremaining: 684ms\n",
      "274:\tlearn: 0.1774228\ttotal: 832ms\tremaining: 681ms\n",
      "275:\tlearn: 0.1766093\ttotal: 835ms\tremaining: 678ms\n",
      "276:\tlearn: 0.1760640\ttotal: 839ms\tremaining: 675ms\n",
      "277:\tlearn: 0.1754877\ttotal: 842ms\tremaining: 672ms\n",
      "278:\tlearn: 0.1748424\ttotal: 845ms\tremaining: 669ms\n",
      "279:\tlearn: 0.1744080\ttotal: 848ms\tremaining: 667ms\n",
      "280:\tlearn: 0.1740118\ttotal: 851ms\tremaining: 664ms\n",
      "281:\tlearn: 0.1736980\ttotal: 855ms\tremaining: 661ms\n",
      "282:\tlearn: 0.1732310\ttotal: 858ms\tremaining: 658ms\n",
      "283:\tlearn: 0.1728920\ttotal: 861ms\tremaining: 655ms\n",
      "284:\tlearn: 0.1726709\ttotal: 864ms\tremaining: 652ms\n",
      "285:\tlearn: 0.1723881\ttotal: 866ms\tremaining: 648ms\n",
      "286:\tlearn: 0.1716590\ttotal: 869ms\tremaining: 645ms\n",
      "287:\tlearn: 0.1713439\ttotal: 872ms\tremaining: 642ms\n",
      "288:\tlearn: 0.1708328\ttotal: 876ms\tremaining: 639ms\n",
      "289:\tlearn: 0.1703922\ttotal: 878ms\tremaining: 636ms\n",
      "290:\tlearn: 0.1701377\ttotal: 881ms\tremaining: 633ms\n",
      "291:\tlearn: 0.1699348\ttotal: 884ms\tremaining: 630ms\n",
      "292:\tlearn: 0.1695162\ttotal: 888ms\tremaining: 627ms\n",
      "293:\tlearn: 0.1687214\ttotal: 891ms\tremaining: 624ms\n",
      "294:\tlearn: 0.1683611\ttotal: 894ms\tremaining: 621ms\n",
      "295:\tlearn: 0.1681158\ttotal: 898ms\tremaining: 619ms\n",
      "296:\tlearn: 0.1675042\ttotal: 901ms\tremaining: 616ms\n",
      "297:\tlearn: 0.1673228\ttotal: 904ms\tremaining: 613ms\n",
      "298:\tlearn: 0.1669922\ttotal: 907ms\tremaining: 609ms\n",
      "299:\tlearn: 0.1666250\ttotal: 909ms\tremaining: 606ms\n",
      "300:\tlearn: 0.1663525\ttotal: 912ms\tremaining: 603ms\n",
      "301:\tlearn: 0.1659571\ttotal: 915ms\tremaining: 600ms\n",
      "302:\tlearn: 0.1657703\ttotal: 918ms\tremaining: 597ms\n",
      "303:\tlearn: 0.1653184\ttotal: 921ms\tremaining: 594ms\n",
      "304:\tlearn: 0.1650503\ttotal: 923ms\tremaining: 590ms\n",
      "305:\tlearn: 0.1646496\ttotal: 927ms\tremaining: 588ms\n",
      "306:\tlearn: 0.1644719\ttotal: 930ms\tremaining: 585ms\n",
      "307:\tlearn: 0.1641051\ttotal: 933ms\tremaining: 582ms\n",
      "308:\tlearn: 0.1638316\ttotal: 936ms\tremaining: 579ms\n",
      "309:\tlearn: 0.1633812\ttotal: 939ms\tremaining: 576ms\n",
      "310:\tlearn: 0.1628710\ttotal: 942ms\tremaining: 572ms\n",
      "311:\tlearn: 0.1624616\ttotal: 945ms\tremaining: 569ms\n",
      "312:\tlearn: 0.1620977\ttotal: 947ms\tremaining: 566ms\n",
      "313:\tlearn: 0.1617073\ttotal: 950ms\tremaining: 563ms\n",
      "314:\tlearn: 0.1614483\ttotal: 953ms\tremaining: 560ms\n",
      "315:\tlearn: 0.1610187\ttotal: 956ms\tremaining: 557ms\n",
      "316:\tlearn: 0.1606984\ttotal: 959ms\tremaining: 553ms\n",
      "317:\tlearn: 0.1602803\ttotal: 962ms\tremaining: 550ms\n",
      "318:\tlearn: 0.1597685\ttotal: 965ms\tremaining: 547ms\n",
      "319:\tlearn: 0.1593556\ttotal: 969ms\tremaining: 545ms\n",
      "320:\tlearn: 0.1586507\ttotal: 973ms\tremaining: 543ms\n",
      "321:\tlearn: 0.1582470\ttotal: 976ms\tremaining: 540ms\n",
      "322:\tlearn: 0.1576724\ttotal: 979ms\tremaining: 536ms\n",
      "323:\tlearn: 0.1574195\ttotal: 982ms\tremaining: 533ms\n",
      "324:\tlearn: 0.1570551\ttotal: 985ms\tremaining: 530ms\n",
      "325:\tlearn: 0.1564922\ttotal: 988ms\tremaining: 527ms\n",
      "326:\tlearn: 0.1561874\ttotal: 991ms\tremaining: 524ms\n",
      "327:\tlearn: 0.1556336\ttotal: 994ms\tremaining: 521ms\n",
      "328:\tlearn: 0.1550101\ttotal: 997ms\tremaining: 518ms\n",
      "329:\tlearn: 0.1545262\ttotal: 1s\tremaining: 515ms\n",
      "330:\tlearn: 0.1540684\ttotal: 1s\tremaining: 512ms\n",
      "331:\tlearn: 0.1538326\ttotal: 1.01s\tremaining: 509ms\n",
      "332:\tlearn: 0.1534502\ttotal: 1.01s\tremaining: 507ms\n",
      "333:\tlearn: 0.1531337\ttotal: 1.01s\tremaining: 504ms\n",
      "334:\tlearn: 0.1527136\ttotal: 1.02s\tremaining: 501ms\n",
      "335:\tlearn: 0.1526017\ttotal: 1.02s\tremaining: 498ms\n",
      "336:\tlearn: 0.1524226\ttotal: 1.02s\tremaining: 494ms\n",
      "337:\tlearn: 0.1522253\ttotal: 1.02s\tremaining: 491ms\n",
      "338:\tlearn: 0.1516290\ttotal: 1.03s\tremaining: 489ms\n",
      "339:\tlearn: 0.1513487\ttotal: 1.03s\tremaining: 485ms\n",
      "340:\tlearn: 0.1508718\ttotal: 1.03s\tremaining: 482ms\n",
      "341:\tlearn: 0.1503359\ttotal: 1.04s\tremaining: 479ms\n",
      "342:\tlearn: 0.1500674\ttotal: 1.04s\tremaining: 476ms\n",
      "343:\tlearn: 0.1495617\ttotal: 1.04s\tremaining: 473ms\n",
      "344:\tlearn: 0.1493861\ttotal: 1.04s\tremaining: 470ms\n",
      "345:\tlearn: 0.1490302\ttotal: 1.05s\tremaining: 467ms\n",
      "346:\tlearn: 0.1488958\ttotal: 1.05s\tremaining: 464ms\n",
      "347:\tlearn: 0.1487940\ttotal: 1.05s\tremaining: 461ms\n",
      "348:\tlearn: 0.1482813\ttotal: 1.06s\tremaining: 457ms\n",
      "349:\tlearn: 0.1479567\ttotal: 1.06s\tremaining: 454ms\n",
      "350:\tlearn: 0.1475775\ttotal: 1.06s\tremaining: 451ms\n",
      "351:\tlearn: 0.1471923\ttotal: 1.07s\tremaining: 449ms\n",
      "352:\tlearn: 0.1469861\ttotal: 1.07s\tremaining: 446ms\n",
      "353:\tlearn: 0.1468191\ttotal: 1.07s\tremaining: 443ms\n",
      "354:\tlearn: 0.1463589\ttotal: 1.08s\tremaining: 440ms\n",
      "355:\tlearn: 0.1459377\ttotal: 1.08s\tremaining: 437ms\n",
      "356:\tlearn: 0.1457470\ttotal: 1.08s\tremaining: 434ms\n",
      "357:\tlearn: 0.1454895\ttotal: 1.09s\tremaining: 431ms\n",
      "358:\tlearn: 0.1450998\ttotal: 1.09s\tremaining: 428ms\n",
      "359:\tlearn: 0.1449139\ttotal: 1.09s\tremaining: 425ms\n",
      "360:\tlearn: 0.1447549\ttotal: 1.09s\tremaining: 422ms\n",
      "361:\tlearn: 0.1445647\ttotal: 1.1s\tremaining: 419ms\n",
      "362:\tlearn: 0.1441772\ttotal: 1.1s\tremaining: 416ms\n",
      "363:\tlearn: 0.1439203\ttotal: 1.1s\tremaining: 413ms\n",
      "364:\tlearn: 0.1437887\ttotal: 1.11s\tremaining: 409ms\n",
      "365:\tlearn: 0.1435141\ttotal: 1.11s\tremaining: 406ms\n",
      "366:\tlearn: 0.1432887\ttotal: 1.11s\tremaining: 403ms\n",
      "367:\tlearn: 0.1428145\ttotal: 1.11s\tremaining: 400ms\n",
      "368:\tlearn: 0.1425074\ttotal: 1.12s\tremaining: 397ms\n",
      "369:\tlearn: 0.1423158\ttotal: 1.12s\tremaining: 394ms\n",
      "370:\tlearn: 0.1418796\ttotal: 1.12s\tremaining: 391ms\n"
     ]
    },
    {
     "name": "stdout",
     "output_type": "stream",
     "text": [
      "371:\tlearn: 0.1415204\ttotal: 1.13s\tremaining: 388ms\n",
      "372:\tlearn: 0.1410236\ttotal: 1.13s\tremaining: 385ms\n",
      "373:\tlearn: 0.1407477\ttotal: 1.14s\tremaining: 382ms\n",
      "374:\tlearn: 0.1405327\ttotal: 1.14s\tremaining: 379ms\n",
      "375:\tlearn: 0.1403749\ttotal: 1.14s\tremaining: 376ms\n",
      "376:\tlearn: 0.1399775\ttotal: 1.14s\tremaining: 373ms\n",
      "377:\tlearn: 0.1397185\ttotal: 1.15s\tremaining: 370ms\n",
      "378:\tlearn: 0.1394852\ttotal: 1.15s\tremaining: 367ms\n",
      "379:\tlearn: 0.1392473\ttotal: 1.15s\tremaining: 364ms\n",
      "380:\tlearn: 0.1390260\ttotal: 1.16s\tremaining: 361ms\n",
      "381:\tlearn: 0.1388411\ttotal: 1.16s\tremaining: 358ms\n",
      "382:\tlearn: 0.1385278\ttotal: 1.16s\tremaining: 355ms\n",
      "383:\tlearn: 0.1382769\ttotal: 1.16s\tremaining: 352ms\n",
      "384:\tlearn: 0.1380029\ttotal: 1.17s\tremaining: 349ms\n",
      "385:\tlearn: 0.1379186\ttotal: 1.17s\tremaining: 346ms\n",
      "386:\tlearn: 0.1376475\ttotal: 1.17s\tremaining: 343ms\n",
      "387:\tlearn: 0.1373494\ttotal: 1.18s\tremaining: 340ms\n",
      "388:\tlearn: 0.1370910\ttotal: 1.18s\tremaining: 337ms\n",
      "389:\tlearn: 0.1367995\ttotal: 1.18s\tremaining: 334ms\n",
      "390:\tlearn: 0.1366291\ttotal: 1.19s\tremaining: 331ms\n",
      "391:\tlearn: 0.1363851\ttotal: 1.19s\tremaining: 328ms\n",
      "392:\tlearn: 0.1360800\ttotal: 1.19s\tremaining: 325ms\n",
      "393:\tlearn: 0.1356864\ttotal: 1.2s\tremaining: 322ms\n",
      "394:\tlearn: 0.1353660\ttotal: 1.2s\tremaining: 319ms\n",
      "395:\tlearn: 0.1352012\ttotal: 1.2s\tremaining: 316ms\n",
      "396:\tlearn: 0.1347625\ttotal: 1.2s\tremaining: 312ms\n",
      "397:\tlearn: 0.1346499\ttotal: 1.21s\tremaining: 309ms\n",
      "398:\tlearn: 0.1341880\ttotal: 1.21s\tremaining: 306ms\n",
      "399:\tlearn: 0.1338564\ttotal: 1.21s\tremaining: 303ms\n",
      "400:\tlearn: 0.1336758\ttotal: 1.22s\tremaining: 300ms\n",
      "401:\tlearn: 0.1332934\ttotal: 1.22s\tremaining: 297ms\n",
      "402:\tlearn: 0.1332077\ttotal: 1.22s\tremaining: 294ms\n",
      "403:\tlearn: 0.1329652\ttotal: 1.22s\tremaining: 291ms\n",
      "404:\tlearn: 0.1327769\ttotal: 1.23s\tremaining: 288ms\n",
      "405:\tlearn: 0.1324900\ttotal: 1.23s\tremaining: 285ms\n",
      "406:\tlearn: 0.1323550\ttotal: 1.23s\tremaining: 282ms\n",
      "407:\tlearn: 0.1321511\ttotal: 1.24s\tremaining: 279ms\n",
      "408:\tlearn: 0.1319110\ttotal: 1.24s\tremaining: 276ms\n",
      "409:\tlearn: 0.1314196\ttotal: 1.24s\tremaining: 273ms\n",
      "410:\tlearn: 0.1311271\ttotal: 1.25s\tremaining: 270ms\n",
      "411:\tlearn: 0.1309996\ttotal: 1.25s\tremaining: 267ms\n",
      "412:\tlearn: 0.1308335\ttotal: 1.25s\tremaining: 264ms\n",
      "413:\tlearn: 0.1306933\ttotal: 1.26s\tremaining: 261ms\n",
      "414:\tlearn: 0.1305137\ttotal: 1.26s\tremaining: 258ms\n",
      "415:\tlearn: 0.1303805\ttotal: 1.26s\tremaining: 255ms\n",
      "416:\tlearn: 0.1301451\ttotal: 1.27s\tremaining: 252ms\n",
      "417:\tlearn: 0.1299145\ttotal: 1.27s\tremaining: 249ms\n",
      "418:\tlearn: 0.1297770\ttotal: 1.27s\tremaining: 246ms\n",
      "419:\tlearn: 0.1295976\ttotal: 1.27s\tremaining: 243ms\n",
      "420:\tlearn: 0.1293662\ttotal: 1.28s\tremaining: 240ms\n",
      "421:\tlearn: 0.1291797\ttotal: 1.28s\tremaining: 237ms\n",
      "422:\tlearn: 0.1289977\ttotal: 1.28s\tremaining: 234ms\n",
      "423:\tlearn: 0.1285909\ttotal: 1.29s\tremaining: 231ms\n",
      "424:\tlearn: 0.1284333\ttotal: 1.29s\tremaining: 228ms\n",
      "425:\tlearn: 0.1283206\ttotal: 1.3s\tremaining: 225ms\n",
      "426:\tlearn: 0.1280633\ttotal: 1.3s\tremaining: 222ms\n",
      "427:\tlearn: 0.1279403\ttotal: 1.3s\tremaining: 219ms\n",
      "428:\tlearn: 0.1275576\ttotal: 1.31s\tremaining: 216ms\n",
      "429:\tlearn: 0.1273928\ttotal: 1.31s\tremaining: 213ms\n",
      "430:\tlearn: 0.1271497\ttotal: 1.31s\tremaining: 210ms\n",
      "431:\tlearn: 0.1269985\ttotal: 1.32s\tremaining: 207ms\n",
      "432:\tlearn: 0.1266849\ttotal: 1.32s\tremaining: 204ms\n",
      "433:\tlearn: 0.1263762\ttotal: 1.32s\tremaining: 201ms\n",
      "434:\tlearn: 0.1262846\ttotal: 1.32s\tremaining: 198ms\n",
      "435:\tlearn: 0.1260468\ttotal: 1.33s\tremaining: 195ms\n",
      "436:\tlearn: 0.1258351\ttotal: 1.33s\tremaining: 192ms\n",
      "437:\tlearn: 0.1257031\ttotal: 1.33s\tremaining: 188ms\n",
      "438:\tlearn: 0.1255952\ttotal: 1.33s\tremaining: 185ms\n",
      "439:\tlearn: 0.1252681\ttotal: 1.33s\tremaining: 182ms\n",
      "440:\tlearn: 0.1251039\ttotal: 1.33s\tremaining: 179ms\n",
      "441:\tlearn: 0.1248853\ttotal: 1.34s\tremaining: 175ms\n",
      "442:\tlearn: 0.1247206\ttotal: 1.34s\tremaining: 172ms\n",
      "443:\tlearn: 0.1245014\ttotal: 1.34s\tremaining: 169ms\n",
      "444:\tlearn: 0.1243304\ttotal: 1.34s\tremaining: 166ms\n",
      "445:\tlearn: 0.1240222\ttotal: 1.34s\tremaining: 163ms\n",
      "446:\tlearn: 0.1238952\ttotal: 1.34s\tremaining: 159ms\n",
      "447:\tlearn: 0.1237748\ttotal: 1.34s\tremaining: 156ms\n",
      "448:\tlearn: 0.1235940\ttotal: 1.35s\tremaining: 153ms\n",
      "449:\tlearn: 0.1233246\ttotal: 1.35s\tremaining: 150ms\n",
      "450:\tlearn: 0.1231113\ttotal: 1.35s\tremaining: 147ms\n",
      "451:\tlearn: 0.1228945\ttotal: 1.35s\tremaining: 144ms\n",
      "452:\tlearn: 0.1225771\ttotal: 1.35s\tremaining: 140ms\n",
      "453:\tlearn: 0.1223494\ttotal: 1.35s\tremaining: 137ms\n",
      "454:\tlearn: 0.1221057\ttotal: 1.36s\tremaining: 134ms\n",
      "455:\tlearn: 0.1219115\ttotal: 1.36s\tremaining: 131ms\n",
      "456:\tlearn: 0.1218236\ttotal: 1.36s\tremaining: 128ms\n",
      "457:\tlearn: 0.1215316\ttotal: 1.36s\tremaining: 125ms\n",
      "458:\tlearn: 0.1212939\ttotal: 1.36s\tremaining: 122ms\n",
      "459:\tlearn: 0.1211949\ttotal: 1.36s\tremaining: 119ms\n",
      "460:\tlearn: 0.1210465\ttotal: 1.37s\tremaining: 116ms\n",
      "461:\tlearn: 0.1208544\ttotal: 1.37s\tremaining: 113ms\n",
      "462:\tlearn: 0.1206798\ttotal: 1.37s\tremaining: 109ms\n",
      "463:\tlearn: 0.1206006\ttotal: 1.37s\tremaining: 106ms\n",
      "464:\tlearn: 0.1204621\ttotal: 1.37s\tremaining: 103ms\n",
      "465:\tlearn: 0.1202587\ttotal: 1.37s\tremaining: 100ms\n",
      "466:\tlearn: 0.1200893\ttotal: 1.38s\tremaining: 97.2ms\n",
      "467:\tlearn: 0.1198168\ttotal: 1.38s\tremaining: 94.2ms\n",
      "468:\tlearn: 0.1195634\ttotal: 1.38s\tremaining: 91.1ms\n",
      "469:\tlearn: 0.1193922\ttotal: 1.38s\tremaining: 88.1ms\n",
      "470:\tlearn: 0.1191951\ttotal: 1.38s\tremaining: 85.1ms\n",
      "471:\tlearn: 0.1189496\ttotal: 1.38s\tremaining: 82.1ms\n",
      "472:\tlearn: 0.1186873\ttotal: 1.38s\tremaining: 79.1ms\n",
      "473:\tlearn: 0.1183227\ttotal: 1.39s\tremaining: 76.1ms\n",
      "474:\tlearn: 0.1181117\ttotal: 1.39s\tremaining: 73.1ms\n",
      "475:\tlearn: 0.1179881\ttotal: 1.39s\tremaining: 70.1ms\n",
      "476:\tlearn: 0.1177281\ttotal: 1.39s\tremaining: 67.1ms\n",
      "477:\tlearn: 0.1174887\ttotal: 1.39s\tremaining: 64.1ms\n",
      "478:\tlearn: 0.1173471\ttotal: 1.39s\tremaining: 61.1ms\n",
      "479:\tlearn: 0.1171421\ttotal: 1.4s\tremaining: 58.2ms\n",
      "480:\tlearn: 0.1169573\ttotal: 1.4s\tremaining: 55.2ms\n",
      "481:\tlearn: 0.1167333\ttotal: 1.4s\tremaining: 52.3ms\n",
      "482:\tlearn: 0.1165041\ttotal: 1.4s\tremaining: 49.3ms\n",
      "483:\tlearn: 0.1162177\ttotal: 1.4s\tremaining: 46.4ms\n",
      "484:\tlearn: 0.1161598\ttotal: 1.4s\tremaining: 43.4ms\n",
      "485:\tlearn: 0.1160086\ttotal: 1.41s\tremaining: 40.5ms\n",
      "486:\tlearn: 0.1158284\ttotal: 1.41s\tremaining: 37.6ms\n",
      "487:\tlearn: 0.1155706\ttotal: 1.41s\tremaining: 34.6ms\n",
      "488:\tlearn: 0.1154337\ttotal: 1.41s\tremaining: 31.7ms\n",
      "489:\tlearn: 0.1153602\ttotal: 1.41s\tremaining: 28.8ms\n",
      "490:\tlearn: 0.1152828\ttotal: 1.41s\tremaining: 25.9ms\n",
      "491:\tlearn: 0.1152226\ttotal: 1.42s\tremaining: 23ms\n",
      "492:\tlearn: 0.1149624\ttotal: 1.42s\tremaining: 20.1ms\n",
      "493:\tlearn: 0.1148667\ttotal: 1.42s\tremaining: 17.2ms\n",
      "494:\tlearn: 0.1147334\ttotal: 1.42s\tremaining: 14.3ms\n",
      "495:\tlearn: 0.1145745\ttotal: 1.42s\tremaining: 11.5ms\n",
      "496:\tlearn: 0.1143532\ttotal: 1.42s\tremaining: 8.59ms\n",
      "497:\tlearn: 0.1142533\ttotal: 1.42s\tremaining: 5.72ms\n",
      "498:\tlearn: 0.1141984\ttotal: 1.43s\tremaining: 2.86ms\n",
      "499:\tlearn: 0.1140065\ttotal: 1.43s\tremaining: 0us\n"
     ]
    }
   ],
   "source": [
    "cmodel = CatBoostClassifier(iterations=500,\n",
    "                               task_type=\"CPU\",\n",
    "                               devices='0:1')\n",
    "catboost_model = cmodel.fit(X_train, y_train, verbose=True)\n"
   ]
  },
  {
   "cell_type": "code",
   "execution_count": 169,
   "id": "f200bdbd",
   "metadata": {},
   "outputs": [
    {
     "name": "stdout",
     "output_type": "stream",
     "text": [
      "\n",
      "Train Accuracy: 98.15%\n",
      "Test Accuracy: 58.33%\n"
     ]
    }
   ],
   "source": [
    "accuracy_train = accuracy_score(y_train, catboost_model.predict(X_train))\n",
    "accuracy_test = accuracy_score(y_test, catboost_model.predict(X_test))\n",
    "print('\\nTrain Accuracy:{: .2f}%'.format(accuracy_train*100))\n",
    "print('Test Accuracy:{: .2f}%'.format(accuracy_test*100))"
   ]
  },
  {
   "cell_type": "code",
   "execution_count": 170,
   "id": "ce5770ac",
   "metadata": {},
   "outputs": [
    {
     "name": "stdout",
     "output_type": "stream",
     "text": [
      "              precision    recall  f1-score   support\n",
      "\n",
      "       TM195      0.562     0.545     0.554        33\n",
      "       TM498      0.304     0.350     0.326        20\n",
      "       TM798      1.000     0.895     0.944        19\n",
      "\n",
      "    accuracy                          0.583        72\n",
      "   macro avg      0.622     0.597     0.608        72\n",
      "weighted avg      0.606     0.583     0.594        72\n",
      "\n",
      "[[18 15  0]\n",
      " [13  7  0]\n",
      " [ 1  1 17]]\n"
     ]
    }
   ],
   "source": [
    "predictions = catboost_model.predict(X_test)\n",
    "print(classification_report(y_test, predictions, digits=3))\n",
    "print(confusion_matrix(y_test, predictions))"
   ]
  },
  {
   "cell_type": "code",
   "execution_count": 171,
   "id": "57a9ad07",
   "metadata": {},
   "outputs": [
    {
     "name": "stderr",
     "output_type": "stream",
     "text": [
      "C:\\Users\\Sajiah Naqib\\AppData\\Local\\Temp\\ipykernel_18196\\3195199177.py:3: DataConversionWarning: A column-vector y was passed when a 1d array was expected. Please change the shape of y to (n_samples,), for example using ravel().\n",
      "  rf_model = model.fit(X_train, y_train)\n"
     ]
    }
   ],
   "source": [
    "from sklearn.ensemble import RandomForestClassifier\n",
    "model = RandomForestClassifier(n_estimators = 500)\n",
    "rf_model = model.fit(X_train, y_train)"
   ]
  },
  {
   "cell_type": "code",
   "execution_count": 172,
   "id": "9f41f5be",
   "metadata": {},
   "outputs": [
    {
     "name": "stdout",
     "output_type": "stream",
     "text": [
      "\n",
      "Train Accuracy: 98.15%\n",
      "Test Accuracy: 56.94%\n"
     ]
    }
   ],
   "source": [
    "accuracy_train = accuracy_score(y_train, rf_model.predict(X_train))\n",
    "accuracy_test = accuracy_score(y_test, rf_model.predict(X_test))\n",
    "print('\\nTrain Accuracy:{: .2f}%'.format(accuracy_train*100))\n",
    "print('Test Accuracy:{: .2f}%'.format(accuracy_test*100))"
   ]
  },
  {
   "cell_type": "code",
   "execution_count": 173,
   "id": "cf63d421",
   "metadata": {},
   "outputs": [
    {
     "name": "stdout",
     "output_type": "stream",
     "text": [
      "              precision    recall  f1-score   support\n",
      "\n",
      "       TM195      0.545     0.545     0.545        33\n",
      "       TM498      0.304     0.350     0.326        20\n",
      "       TM798      1.000     0.842     0.914        19\n",
      "\n",
      "    accuracy                          0.569        72\n",
      "   macro avg      0.617     0.579     0.595        72\n",
      "weighted avg      0.598     0.569     0.582        72\n",
      "\n",
      "[[18 15  0]\n",
      " [13  7  0]\n",
      " [ 2  1 16]]\n"
     ]
    }
   ],
   "source": [
    "predictions = rf_model.predict(X_test)\n",
    "print(classification_report(y_test, predictions, digits=3))\n",
    "print(confusion_matrix(y_test, predictions))"
   ]
  },
  {
   "cell_type": "code",
   "execution_count": null,
   "id": "f2a32879",
   "metadata": {},
   "outputs": [],
   "source": []
  }
 ],
 "metadata": {
  "kernelspec": {
   "display_name": "Python 3 (ipykernel)",
   "language": "python",
   "name": "python3"
  },
  "language_info": {
   "codemirror_mode": {
    "name": "ipython",
    "version": 3
   },
   "file_extension": ".py",
   "mimetype": "text/x-python",
   "name": "python",
   "nbconvert_exporter": "python",
   "pygments_lexer": "ipython3",
   "version": "3.8.13"
  }
 },
 "nbformat": 4,
 "nbformat_minor": 5
}
